{
 "cells": [
  {
   "cell_type": "markdown",
   "metadata": {},
   "source": [
    "## 46-886\n",
    "\n",
    "## Tree-Based (Ensemble) Models: Random Forests and Boosted Trees\n",
    "\n",
    "### Application: Predicting Click-Through Rate\n",
    " \n",
    "\n",
    "Amr Farahat\n",
    "\n",
    "CMU / Tepper\n",
    "\n",
    "2023-03-25\n",
    "\n",
    "---"
   ]
  },
  {
   "cell_type": "markdown",
   "metadata": {},
   "source": [
    "## Setting up"
   ]
  },
  {
   "cell_type": "code",
   "execution_count": 1,
   "metadata": {},
   "outputs": [],
   "source": [
    "import numpy as np\n",
    "import pandas as pd\n",
    "import matplotlib.pyplot as plt"
   ]
  },
  {
   "cell_type": "code",
   "execution_count": 2,
   "metadata": {},
   "outputs": [],
   "source": [
    "from sklearn.model_selection import train_test_split\n",
    "from sklearn.ensemble import RandomForestRegressor\n",
    "from sklearn.ensemble import GradientBoostingRegressor\n",
    "from sklearn.model_selection import cross_val_score\n",
    "from sklearn.model_selection import GridSearchCV\n",
    "from sklearn.metrics import mean_squared_error"
   ]
  },
  {
   "cell_type": "code",
   "execution_count": 3,
   "metadata": {},
   "outputs": [],
   "source": [
    "pd.options.display.max_columns = None"
   ]
  },
  {
   "cell_type": "markdown",
   "metadata": {},
   "source": [
    "## Importing and preparing data"
   ]
  },
  {
   "cell_type": "code",
   "execution_count": 4,
   "metadata": {},
   "outputs": [],
   "source": [
    "df = pd.read_csv(\"CTR.csv\")"
   ]
  },
  {
   "cell_type": "code",
   "execution_count": 5,
   "metadata": {},
   "outputs": [
    {
     "data": {
      "text/html": [
       "<div>\n",
       "<style scoped>\n",
       "    .dataframe tbody tr th:only-of-type {\n",
       "        vertical-align: middle;\n",
       "    }\n",
       "\n",
       "    .dataframe tbody tr th {\n",
       "        vertical-align: top;\n",
       "    }\n",
       "\n",
       "    .dataframe thead th {\n",
       "        text-align: right;\n",
       "    }\n",
       "</style>\n",
       "<table border=\"1\" class=\"dataframe\">\n",
       "  <thead>\n",
       "    <tr style=\"text-align: right;\">\n",
       "      <th></th>\n",
       "      <th>CTR</th>\n",
       "      <th>titleWords</th>\n",
       "      <th>adWords</th>\n",
       "      <th>depth</th>\n",
       "      <th>position</th>\n",
       "      <th>advCTR</th>\n",
       "      <th>queryCTR</th>\n",
       "      <th>queryCTRInPos</th>\n",
       "    </tr>\n",
       "  </thead>\n",
       "  <tbody>\n",
       "    <tr>\n",
       "      <th>0</th>\n",
       "      <td>0.0000</td>\n",
       "      <td>10</td>\n",
       "      <td>17</td>\n",
       "      <td>3</td>\n",
       "      <td>2</td>\n",
       "      <td>0.0136</td>\n",
       "      <td>0.0000</td>\n",
       "      <td>0.0000</td>\n",
       "    </tr>\n",
       "    <tr>\n",
       "      <th>1</th>\n",
       "      <td>0.0761</td>\n",
       "      <td>13</td>\n",
       "      <td>30</td>\n",
       "      <td>2</td>\n",
       "      <td>1</td>\n",
       "      <td>0.0373</td>\n",
       "      <td>0.0382</td>\n",
       "      <td>0.0581</td>\n",
       "    </tr>\n",
       "    <tr>\n",
       "      <th>2</th>\n",
       "      <td>0.0426</td>\n",
       "      <td>12</td>\n",
       "      <td>14</td>\n",
       "      <td>1</td>\n",
       "      <td>1</td>\n",
       "      <td>0.0254</td>\n",
       "      <td>0.0255</td>\n",
       "      <td>0.0323</td>\n",
       "    </tr>\n",
       "    <tr>\n",
       "      <th>3</th>\n",
       "      <td>0.0000</td>\n",
       "      <td>5</td>\n",
       "      <td>19</td>\n",
       "      <td>3</td>\n",
       "      <td>2</td>\n",
       "      <td>0.0178</td>\n",
       "      <td>0.0035</td>\n",
       "      <td>0.0017</td>\n",
       "    </tr>\n",
       "    <tr>\n",
       "      <th>4</th>\n",
       "      <td>0.0068</td>\n",
       "      <td>11</td>\n",
       "      <td>17</td>\n",
       "      <td>2</td>\n",
       "      <td>2</td>\n",
       "      <td>0.0096</td>\n",
       "      <td>0.0294</td>\n",
       "      <td>0.0171</td>\n",
       "    </tr>\n",
       "    <tr>\n",
       "      <th>...</th>\n",
       "      <td>...</td>\n",
       "      <td>...</td>\n",
       "      <td>...</td>\n",
       "      <td>...</td>\n",
       "      <td>...</td>\n",
       "      <td>...</td>\n",
       "      <td>...</td>\n",
       "      <td>...</td>\n",
       "    </tr>\n",
       "    <tr>\n",
       "      <th>6052</th>\n",
       "      <td>0.0182</td>\n",
       "      <td>8</td>\n",
       "      <td>16</td>\n",
       "      <td>1</td>\n",
       "      <td>1</td>\n",
       "      <td>0.0273</td>\n",
       "      <td>0.0040</td>\n",
       "      <td>0.0000</td>\n",
       "    </tr>\n",
       "    <tr>\n",
       "      <th>6053</th>\n",
       "      <td>0.0536</td>\n",
       "      <td>6</td>\n",
       "      <td>20</td>\n",
       "      <td>1</td>\n",
       "      <td>1</td>\n",
       "      <td>0.0919</td>\n",
       "      <td>0.0000</td>\n",
       "      <td>0.0000</td>\n",
       "    </tr>\n",
       "    <tr>\n",
       "      <th>6054</th>\n",
       "      <td>0.0141</td>\n",
       "      <td>9</td>\n",
       "      <td>26</td>\n",
       "      <td>3</td>\n",
       "      <td>1</td>\n",
       "      <td>0.0496</td>\n",
       "      <td>0.0467</td>\n",
       "      <td>0.0668</td>\n",
       "    </tr>\n",
       "    <tr>\n",
       "      <th>6055</th>\n",
       "      <td>0.1339</td>\n",
       "      <td>9</td>\n",
       "      <td>16</td>\n",
       "      <td>2</td>\n",
       "      <td>1</td>\n",
       "      <td>0.0566</td>\n",
       "      <td>0.0618</td>\n",
       "      <td>0.1012</td>\n",
       "    </tr>\n",
       "    <tr>\n",
       "      <th>6056</th>\n",
       "      <td>0.1322</td>\n",
       "      <td>12</td>\n",
       "      <td>23</td>\n",
       "      <td>2</td>\n",
       "      <td>1</td>\n",
       "      <td>0.0430</td>\n",
       "      <td>0.0215</td>\n",
       "      <td>0.0287</td>\n",
       "    </tr>\n",
       "  </tbody>\n",
       "</table>\n",
       "<p>6057 rows × 8 columns</p>\n",
       "</div>"
      ],
      "text/plain": [
       "         CTR  titleWords  adWords  depth  position  advCTR  queryCTR  \\\n",
       "0     0.0000          10       17      3         2  0.0136    0.0000   \n",
       "1     0.0761          13       30      2         1  0.0373    0.0382   \n",
       "2     0.0426          12       14      1         1  0.0254    0.0255   \n",
       "3     0.0000           5       19      3         2  0.0178    0.0035   \n",
       "4     0.0068          11       17      2         2  0.0096    0.0294   \n",
       "...      ...         ...      ...    ...       ...     ...       ...   \n",
       "6052  0.0182           8       16      1         1  0.0273    0.0040   \n",
       "6053  0.0536           6       20      1         1  0.0919    0.0000   \n",
       "6054  0.0141           9       26      3         1  0.0496    0.0467   \n",
       "6055  0.1339           9       16      2         1  0.0566    0.0618   \n",
       "6056  0.1322          12       23      2         1  0.0430    0.0215   \n",
       "\n",
       "      queryCTRInPos  \n",
       "0            0.0000  \n",
       "1            0.0581  \n",
       "2            0.0323  \n",
       "3            0.0017  \n",
       "4            0.0171  \n",
       "...             ...  \n",
       "6052         0.0000  \n",
       "6053         0.0000  \n",
       "6054         0.0668  \n",
       "6055         0.1012  \n",
       "6056         0.0287  \n",
       "\n",
       "[6057 rows x 8 columns]"
      ]
     },
     "execution_count": 5,
     "metadata": {},
     "output_type": "execute_result"
    }
   ],
   "source": [
    "df"
   ]
  },
  {
   "cell_type": "code",
   "execution_count": 6,
   "metadata": {},
   "outputs": [
    {
     "name": "stdout",
     "output_type": "stream",
     "text": [
      "<class 'pandas.core.frame.DataFrame'>\n",
      "RangeIndex: 6057 entries, 0 to 6056\n",
      "Data columns (total 8 columns):\n",
      " #   Column         Non-Null Count  Dtype  \n",
      "---  ------         --------------  -----  \n",
      " 0   CTR            6057 non-null   float64\n",
      " 1   titleWords     6057 non-null   int64  \n",
      " 2   adWords        6057 non-null   int64  \n",
      " 3   depth          6057 non-null   int64  \n",
      " 4   position       6057 non-null   int64  \n",
      " 5   advCTR         6057 non-null   float64\n",
      " 6   queryCTR       6057 non-null   float64\n",
      " 7   queryCTRInPos  6057 non-null   float64\n",
      "dtypes: float64(4), int64(4)\n",
      "memory usage: 378.7 KB\n"
     ]
    }
   ],
   "source": [
    "df.info()"
   ]
  },
  {
   "cell_type": "code",
   "execution_count": 7,
   "metadata": {},
   "outputs": [],
   "source": [
    "y = df[\"CTR\"]\n",
    "X = df.drop(\"CTR\", axis=1)"
   ]
  },
  {
   "cell_type": "code",
   "execution_count": 8,
   "metadata": {},
   "outputs": [],
   "source": [
    "X_train, X_test, y_train, y_test = train_test_split(X, y, test_size=0.2, random_state=886)"
   ]
  },
  {
   "cell_type": "markdown",
   "metadata": {
    "scrolled": true
   },
   "source": [
    "## Random Forests"
   ]
  },
  {
   "cell_type": "markdown",
   "metadata": {},
   "source": [
    "Scikit-learn reference: \n",
    "\n",
    "https://scikit-learn.org/stable/modules/generated/sklearn.ensemble.RandomForestRegressor.html#sklearn-ensemble-randomforestregressor"
   ]
  },
  {
   "cell_type": "markdown",
   "metadata": {},
   "source": [
    "### Bagging with default parameters"
   ]
  },
  {
   "cell_type": "code",
   "execution_count": 9,
   "metadata": {},
   "outputs": [],
   "source": [
    "bag_mod = RandomForestRegressor(random_state=886)"
   ]
  },
  {
   "cell_type": "code",
   "execution_count": 10,
   "metadata": {},
   "outputs": [
    {
     "data": {
      "text/plain": [
       "RandomForestRegressor(random_state=886)"
      ]
     },
     "execution_count": 10,
     "metadata": {},
     "output_type": "execute_result"
    }
   ],
   "source": [
    "bag_mod.fit(X_train, y_train)"
   ]
  },
  {
   "cell_type": "code",
   "execution_count": 11,
   "metadata": {},
   "outputs": [
    {
     "name": "stdout",
     "output_type": "stream",
     "text": [
      "Bagging Train R2:  0.9269195230172717\n",
      "Bagging Forest Test R2:  0.44752654403515424\n"
     ]
    }
   ],
   "source": [
    "print(\"Bagging Train R2: \", bag_mod.score(X_train, y_train))\n",
    "print(\"Bagging Forest Test R2: \", bag_mod.score(X_test, y_test))"
   ]
  },
  {
   "cell_type": "markdown",
   "metadata": {},
   "source": [
    "###  Random Forest (with max_features = 'sqrt')"
   ]
  },
  {
   "cell_type": "code",
   "execution_count": 12,
   "metadata": {},
   "outputs": [],
   "source": [
    "rf_mod = RandomForestRegressor(max_features = 'sqrt', random_state=886)"
   ]
  },
  {
   "cell_type": "code",
   "execution_count": 13,
   "metadata": {},
   "outputs": [
    {
     "data": {
      "text/plain": [
       "RandomForestRegressor(max_features='sqrt', random_state=886)"
      ]
     },
     "execution_count": 13,
     "metadata": {},
     "output_type": "execute_result"
    }
   ],
   "source": [
    "rf_mod.fit(X_train, y_train)"
   ]
  },
  {
   "cell_type": "code",
   "execution_count": 14,
   "metadata": {},
   "outputs": [
    {
     "name": "stdout",
     "output_type": "stream",
     "text": [
      "Random Forest Train R2:  0.9282979210998914\n",
      "Random Forest Test R2:  0.47063271079922764\n"
     ]
    }
   ],
   "source": [
    "print(\"Random Forest Train R2: \", rf_mod.score(X_train, y_train))\n",
    "print(\"Random Forest Test R2: \", rf_mod.score(X_test, y_test))"
   ]
  },
  {
   "cell_type": "markdown",
   "metadata": {},
   "source": [
    "### Random Forest with cross validation on max_features"
   ]
  },
  {
   "cell_type": "code",
   "execution_count": 15,
   "metadata": {},
   "outputs": [
    {
     "data": {
      "text/plain": [
       "{'bootstrap': True,\n",
       " 'ccp_alpha': 0.0,\n",
       " 'criterion': 'squared_error',\n",
       " 'max_depth': None,\n",
       " 'max_features': 'sqrt',\n",
       " 'max_leaf_nodes': None,\n",
       " 'max_samples': None,\n",
       " 'min_impurity_decrease': 0.0,\n",
       " 'min_samples_leaf': 1,\n",
       " 'min_samples_split': 2,\n",
       " 'min_weight_fraction_leaf': 0.0,\n",
       " 'n_estimators': 100,\n",
       " 'n_jobs': None,\n",
       " 'oob_score': False,\n",
       " 'random_state': 886,\n",
       " 'verbose': 0,\n",
       " 'warm_start': False}"
      ]
     },
     "execution_count": 15,
     "metadata": {},
     "output_type": "execute_result"
    }
   ],
   "source": [
    "rf_mod.get_params()"
   ]
  },
  {
   "cell_type": "code",
   "execution_count": 16,
   "metadata": {},
   "outputs": [],
   "source": [
    "param_grid = [\n",
    "  {'max_features': [1, 2, 3, 4, 5, 6, 7]} \n",
    "]"
   ]
  },
  {
   "cell_type": "code",
   "execution_count": 17,
   "metadata": {},
   "outputs": [],
   "source": [
    "cv_grid_rf = GridSearchCV(rf_mod, param_grid, scoring=\"r2\")"
   ]
  },
  {
   "cell_type": "code",
   "execution_count": 18,
   "metadata": {},
   "outputs": [
    {
     "data": {
      "text/plain": [
       "GridSearchCV(estimator=RandomForestRegressor(max_features='sqrt',\n",
       "                                             random_state=886),\n",
       "             param_grid=[{'max_features': [1, 2, 3, 4, 5, 6, 7]}],\n",
       "             scoring='r2')"
      ]
     },
     "execution_count": 18,
     "metadata": {},
     "output_type": "execute_result"
    }
   ],
   "source": [
    "cv_grid_rf.fit(X_train, y_train)"
   ]
  },
  {
   "cell_type": "code",
   "execution_count": 19,
   "metadata": {},
   "outputs": [
    {
     "data": {
      "text/html": [
       "<div>\n",
       "<style scoped>\n",
       "    .dataframe tbody tr th:only-of-type {\n",
       "        vertical-align: middle;\n",
       "    }\n",
       "\n",
       "    .dataframe tbody tr th {\n",
       "        vertical-align: top;\n",
       "    }\n",
       "\n",
       "    .dataframe thead th {\n",
       "        text-align: right;\n",
       "    }\n",
       "</style>\n",
       "<table border=\"1\" class=\"dataframe\">\n",
       "  <thead>\n",
       "    <tr style=\"text-align: right;\">\n",
       "      <th></th>\n",
       "      <th>mean_fit_time</th>\n",
       "      <th>std_fit_time</th>\n",
       "      <th>mean_score_time</th>\n",
       "      <th>std_score_time</th>\n",
       "      <th>param_max_features</th>\n",
       "      <th>params</th>\n",
       "      <th>split0_test_score</th>\n",
       "      <th>split1_test_score</th>\n",
       "      <th>split2_test_score</th>\n",
       "      <th>split3_test_score</th>\n",
       "      <th>split4_test_score</th>\n",
       "      <th>mean_test_score</th>\n",
       "      <th>std_test_score</th>\n",
       "      <th>rank_test_score</th>\n",
       "    </tr>\n",
       "  </thead>\n",
       "  <tbody>\n",
       "    <tr>\n",
       "      <th>0</th>\n",
       "      <td>0.242854</td>\n",
       "      <td>0.011702</td>\n",
       "      <td>0.013437</td>\n",
       "      <td>0.004215</td>\n",
       "      <td>1</td>\n",
       "      <td>{'max_features': 1}</td>\n",
       "      <td>0.517490</td>\n",
       "      <td>0.442261</td>\n",
       "      <td>0.456691</td>\n",
       "      <td>0.586539</td>\n",
       "      <td>0.542613</td>\n",
       "      <td>0.509119</td>\n",
       "      <td>0.053674</td>\n",
       "      <td>2</td>\n",
       "    </tr>\n",
       "    <tr>\n",
       "      <th>1</th>\n",
       "      <td>0.326420</td>\n",
       "      <td>0.004907</td>\n",
       "      <td>0.016312</td>\n",
       "      <td>0.001229</td>\n",
       "      <td>2</td>\n",
       "      <td>{'max_features': 2}</td>\n",
       "      <td>0.519816</td>\n",
       "      <td>0.449010</td>\n",
       "      <td>0.472707</td>\n",
       "      <td>0.585409</td>\n",
       "      <td>0.540243</td>\n",
       "      <td>0.513437</td>\n",
       "      <td>0.048475</td>\n",
       "      <td>1</td>\n",
       "    </tr>\n",
       "    <tr>\n",
       "      <th>2</th>\n",
       "      <td>0.433656</td>\n",
       "      <td>0.008984</td>\n",
       "      <td>0.016358</td>\n",
       "      <td>0.000876</td>\n",
       "      <td>3</td>\n",
       "      <td>{'max_features': 3}</td>\n",
       "      <td>0.506343</td>\n",
       "      <td>0.455218</td>\n",
       "      <td>0.450203</td>\n",
       "      <td>0.583606</td>\n",
       "      <td>0.538473</td>\n",
       "      <td>0.506769</td>\n",
       "      <td>0.050530</td>\n",
       "      <td>3</td>\n",
       "    </tr>\n",
       "    <tr>\n",
       "      <th>3</th>\n",
       "      <td>0.525117</td>\n",
       "      <td>0.006614</td>\n",
       "      <td>0.015684</td>\n",
       "      <td>0.000069</td>\n",
       "      <td>4</td>\n",
       "      <td>{'max_features': 4}</td>\n",
       "      <td>0.501471</td>\n",
       "      <td>0.466017</td>\n",
       "      <td>0.464890</td>\n",
       "      <td>0.575977</td>\n",
       "      <td>0.523602</td>\n",
       "      <td>0.506391</td>\n",
       "      <td>0.041268</td>\n",
       "      <td>4</td>\n",
       "    </tr>\n",
       "    <tr>\n",
       "      <th>4</th>\n",
       "      <td>0.618208</td>\n",
       "      <td>0.006166</td>\n",
       "      <td>0.015723</td>\n",
       "      <td>0.000146</td>\n",
       "      <td>5</td>\n",
       "      <td>{'max_features': 5}</td>\n",
       "      <td>0.499632</td>\n",
       "      <td>0.456333</td>\n",
       "      <td>0.454406</td>\n",
       "      <td>0.562154</td>\n",
       "      <td>0.528209</td>\n",
       "      <td>0.500147</td>\n",
       "      <td>0.041580</td>\n",
       "      <td>5</td>\n",
       "    </tr>\n",
       "    <tr>\n",
       "      <th>5</th>\n",
       "      <td>0.723470</td>\n",
       "      <td>0.007954</td>\n",
       "      <td>0.014700</td>\n",
       "      <td>0.002588</td>\n",
       "      <td>6</td>\n",
       "      <td>{'max_features': 6}</td>\n",
       "      <td>0.489973</td>\n",
       "      <td>0.448298</td>\n",
       "      <td>0.457233</td>\n",
       "      <td>0.562605</td>\n",
       "      <td>0.514675</td>\n",
       "      <td>0.494557</td>\n",
       "      <td>0.041447</td>\n",
       "      <td>6</td>\n",
       "    </tr>\n",
       "    <tr>\n",
       "      <th>6</th>\n",
       "      <td>0.822408</td>\n",
       "      <td>0.019310</td>\n",
       "      <td>0.015729</td>\n",
       "      <td>0.000086</td>\n",
       "      <td>7</td>\n",
       "      <td>{'max_features': 7}</td>\n",
       "      <td>0.495129</td>\n",
       "      <td>0.448165</td>\n",
       "      <td>0.444572</td>\n",
       "      <td>0.553033</td>\n",
       "      <td>0.511320</td>\n",
       "      <td>0.490444</td>\n",
       "      <td>0.040662</td>\n",
       "      <td>7</td>\n",
       "    </tr>\n",
       "  </tbody>\n",
       "</table>\n",
       "</div>"
      ],
      "text/plain": [
       "   mean_fit_time  std_fit_time  mean_score_time  std_score_time  \\\n",
       "0       0.242854      0.011702         0.013437        0.004215   \n",
       "1       0.326420      0.004907         0.016312        0.001229   \n",
       "2       0.433656      0.008984         0.016358        0.000876   \n",
       "3       0.525117      0.006614         0.015684        0.000069   \n",
       "4       0.618208      0.006166         0.015723        0.000146   \n",
       "5       0.723470      0.007954         0.014700        0.002588   \n",
       "6       0.822408      0.019310         0.015729        0.000086   \n",
       "\n",
       "  param_max_features               params  split0_test_score  \\\n",
       "0                  1  {'max_features': 1}           0.517490   \n",
       "1                  2  {'max_features': 2}           0.519816   \n",
       "2                  3  {'max_features': 3}           0.506343   \n",
       "3                  4  {'max_features': 4}           0.501471   \n",
       "4                  5  {'max_features': 5}           0.499632   \n",
       "5                  6  {'max_features': 6}           0.489973   \n",
       "6                  7  {'max_features': 7}           0.495129   \n",
       "\n",
       "   split1_test_score  split2_test_score  split3_test_score  split4_test_score  \\\n",
       "0           0.442261           0.456691           0.586539           0.542613   \n",
       "1           0.449010           0.472707           0.585409           0.540243   \n",
       "2           0.455218           0.450203           0.583606           0.538473   \n",
       "3           0.466017           0.464890           0.575977           0.523602   \n",
       "4           0.456333           0.454406           0.562154           0.528209   \n",
       "5           0.448298           0.457233           0.562605           0.514675   \n",
       "6           0.448165           0.444572           0.553033           0.511320   \n",
       "\n",
       "   mean_test_score  std_test_score  rank_test_score  \n",
       "0         0.509119        0.053674                2  \n",
       "1         0.513437        0.048475                1  \n",
       "2         0.506769        0.050530                3  \n",
       "3         0.506391        0.041268                4  \n",
       "4         0.500147        0.041580                5  \n",
       "5         0.494557        0.041447                6  \n",
       "6         0.490444        0.040662                7  "
      ]
     },
     "execution_count": 19,
     "metadata": {},
     "output_type": "execute_result"
    }
   ],
   "source": [
    "pd.DataFrame(cv_grid_rf.cv_results_)"
   ]
  },
  {
   "cell_type": "code",
   "execution_count": 20,
   "metadata": {},
   "outputs": [
    {
     "data": {
      "text/plain": [
       "RandomForestRegressor(max_features=2, random_state=886)"
      ]
     },
     "execution_count": 20,
     "metadata": {},
     "output_type": "execute_result"
    }
   ],
   "source": [
    "rf_mod_cvfinal = RandomForestRegressor(max_features=2, random_state=886)\n",
    "rf_mod_cvfinal.fit(X_train, y_train)"
   ]
  },
  {
   "cell_type": "code",
   "execution_count": 21,
   "metadata": {},
   "outputs": [
    {
     "name": "stdout",
     "output_type": "stream",
     "text": [
      "Random Forest with CV train R2:  0.9282979210998914\n",
      "Random Forest with CV test R2:  0.47063271079922764\n"
     ]
    }
   ],
   "source": [
    "print(\"Random Forest with CV train R2: \", rf_mod_cvfinal.score(X_train, y_train))\n",
    "print(\"Random Forest with CV test R2: \", rf_mod_cvfinal.score(X_test, y_test))"
   ]
  },
  {
   "cell_type": "markdown",
   "metadata": {},
   "source": [
    "## Boosted Trees"
   ]
  },
  {
   "cell_type": "markdown",
   "metadata": {},
   "source": [
    "Scikit-learn reference: \n",
    "\n",
    "https://scikit-learn.org/stable/modules/generated/sklearn.ensemble.GradientBoostingRegressor.html#sklearn-ensemble-gradientboostingregressor"
   ]
  },
  {
   "cell_type": "markdown",
   "metadata": {},
   "source": [
    "### Default parameters"
   ]
  },
  {
   "cell_type": "code",
   "execution_count": 22,
   "metadata": {},
   "outputs": [],
   "source": [
    "gb_mod_0 = GradientBoostingRegressor(random_state=886)"
   ]
  },
  {
   "cell_type": "code",
   "execution_count": 23,
   "metadata": {},
   "outputs": [
    {
     "data": {
      "text/plain": [
       "GradientBoostingRegressor(random_state=886)"
      ]
     },
     "execution_count": 23,
     "metadata": {},
     "output_type": "execute_result"
    }
   ],
   "source": [
    "gb_mod_0.fit(X_train, y_train)"
   ]
  },
  {
   "cell_type": "code",
   "execution_count": 24,
   "metadata": {},
   "outputs": [
    {
     "name": "stdout",
     "output_type": "stream",
     "text": [
      "Gradient Boosting (default parameters) Train R2:  0.6057677224441272\n",
      "Gradient Boosting (default parameters) Test R2:  0.43179710632316104\n"
     ]
    }
   ],
   "source": [
    "print(\"Gradient Boosting (default parameters) Train R2: \", gb_mod_0.score(X_train, y_train))\n",
    "print(\"Gradient Boosting (default parameters) Test R2: \", gb_mod_0.score(X_test, y_test))"
   ]
  },
  {
   "cell_type": "markdown",
   "metadata": {},
   "source": [
    "### Varying the learning rate parameter"
   ]
  },
  {
   "cell_type": "code",
   "execution_count": 25,
   "metadata": {},
   "outputs": [],
   "source": [
    "gb_mod_1 = GradientBoostingRegressor(learning_rate=1, n_estimators= 100, random_state=886)"
   ]
  },
  {
   "cell_type": "code",
   "execution_count": 26,
   "metadata": {},
   "outputs": [
    {
     "data": {
      "text/plain": [
       "GradientBoostingRegressor(learning_rate=1, random_state=886)"
      ]
     },
     "execution_count": 26,
     "metadata": {},
     "output_type": "execute_result"
    }
   ],
   "source": [
    "gb_mod_1.fit(X_train, y_train)"
   ]
  },
  {
   "cell_type": "code",
   "execution_count": 27,
   "metadata": {},
   "outputs": [
    {
     "name": "stdout",
     "output_type": "stream",
     "text": [
      "Gradient Boosting (slower learning) Train R2:  0.8201552703947009\n",
      "Gradient Boosting (slower learning) Test R2:  0.1902708255698986\n"
     ]
    }
   ],
   "source": [
    "print(\"Gradient Boosting (slower learning) Train R2: \", gb_mod_1.score(X_train, y_train))\n",
    "print(\"Gradient Boosting (slower learning) Test R2: \", gb_mod_1.score(X_test, y_test))"
   ]
  },
  {
   "cell_type": "markdown",
   "metadata": {},
   "source": [
    "### END"
   ]
  }
 ],
 "metadata": {
  "colab": {
   "collapsed_sections": [
    "cbEQlIplwY5k",
    "EBUEG5-Cnglm",
    "HBHgRvCEzJAD",
    "IeWbEvilxC5P",
    "Rhly7BwrzPdf",
    "neI3PXRV5Y5f",
    "t5h7PZ-Q6L09",
    "0Nlsk4V16P08",
    "fnWLIf0r_POH",
    "rnvyAlV5_mMz",
    "OQk3oN_T_yl2",
    "2FCZXiuY_uIf",
    "GS1h4S8LvHyJ"
   ],
   "name": "2021_10_01_meeting.ipynb",
   "provenance": []
  },
  "finalized": {
   "timestamp": 1653670308085,
   "trusted": true
  },
  "kernelspec": {
   "display_name": "Python 3 (ipykernel)",
   "language": "python",
   "name": "python3"
  },
  "language_info": {
   "codemirror_mode": {
    "name": "ipython",
    "version": 3
   },
   "file_extension": ".py",
   "mimetype": "text/x-python",
   "name": "python",
   "nbconvert_exporter": "python",
   "pygments_lexer": "ipython3",
   "version": "3.9.12"
  }
 },
 "nbformat": 4,
 "nbformat_minor": 4
}
