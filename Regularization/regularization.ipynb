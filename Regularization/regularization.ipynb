{
 "cells": [
  {
   "cell_type": "markdown",
   "metadata": {},
   "source": [
    "## 46-886\n",
    "\n",
    "## Regularization: Ridge and Lasso Regression\n",
    "\n",
    "### Application: Predicting Diabetes Disease Progression\n",
    " \n",
    "\n",
    "Amr Farahat\n",
    "\n",
    "CMU / Tepper\n",
    "\n",
    "2023-04-10\n",
    "\n",
    "---"
   ]
  },
  {
   "cell_type": "markdown",
   "metadata": {},
   "source": [
    "## 0. Setting up"
   ]
  },
  {
   "cell_type": "code",
   "execution_count": 1,
   "metadata": {},
   "outputs": [],
   "source": [
    "import numpy as np\n",
    "import pandas as pd\n",
    "import matplotlib.pyplot as plt"
   ]
  },
  {
   "cell_type": "code",
   "execution_count": 2,
   "metadata": {},
   "outputs": [],
   "source": [
    "import statsmodels.api as sm\n",
    "from graphviz import Source\n",
    "from sklearn.model_selection import train_test_split\n",
    "from sklearn.linear_model import LinearRegression\n",
    "from sklearn.tree import DecisionTreeRegressor\n",
    "from sklearn.tree import export_graphviz\n",
    "from sklearn.ensemble import RandomForestRegressor\n",
    "from sklearn.ensemble import GradientBoostingRegressor\n",
    "from sklearn.model_selection import cross_val_score\n",
    "from sklearn.model_selection import GridSearchCV\n",
    "from sklearn.metrics import mean_squared_error"
   ]
  },
  {
   "cell_type": "code",
   "execution_count": 3,
   "metadata": {},
   "outputs": [],
   "source": [
    "# new imports\n",
    "from sklearn.linear_model import Ridge\n",
    "from sklearn.linear_model import Lasso\n",
    "from sklearn.linear_model import ElasticNet\n",
    "from sklearn.linear_model import RidgeCV\n",
    "from sklearn.linear_model import LassoCV\n",
    "from sklearn.linear_model import ElasticNetCV"
   ]
  },
  {
   "cell_type": "code",
   "execution_count": 4,
   "metadata": {},
   "outputs": [],
   "source": [
    "pd.options.display.max_columns = None"
   ]
  },
  {
   "cell_type": "code",
   "execution_count": 5,
   "metadata": {},
   "outputs": [],
   "source": [
    "def OSR2(y_actual,y_pred,baseline):\n",
    "    residuals = y_actual - y_pred\n",
    "    SSR = np.sum((residuals)^2)\n",
    "    SST = np.sum((y_actual - baseline)^2)\n",
    "    R2 = 1 - SSR / SST\n",
    "    return(R2) "
   ]
  },
  {
   "cell_type": "markdown",
   "metadata": {},
   "source": [
    "## 1. Reading in data"
   ]
  },
  {
   "cell_type": "markdown",
   "metadata": {},
   "source": [
    "Original data can be found here: \n",
    "https://hastie.su.domains/StatLearnSparsity_files/DATA/diabetes.html"
   ]
  },
  {
   "cell_type": "markdown",
   "metadata": {},
   "source": [
    "We will use a standardized version that includes quadratic and interaction terms. \n",
    "\n",
    "The data is standardized as follows:\n",
    "1. Standardizing the 10 main indep vars\n",
    "2. Creating quadratic+interaction terms\n",
    "3. Re-standardizing the quadratic/interaction terms"
   ]
  },
  {
   "cell_type": "code",
   "execution_count": 6,
   "metadata": {},
   "outputs": [],
   "source": [
    "df = pd.read_csv(\"df.csv\")"
   ]
  },
  {
   "cell_type": "code",
   "execution_count": 7,
   "metadata": {},
   "outputs": [
    {
     "name": "stdout",
     "output_type": "stream",
     "text": [
      "<class 'pandas.core.frame.DataFrame'>\n",
      "RangeIndex: 442 entries, 0 to 441\n",
      "Data columns (total 66 columns):\n",
      " #   Column   Non-Null Count  Dtype  \n",
      "---  ------   --------------  -----  \n",
      " 0   all.obs  442 non-null    int64  \n",
      " 1   y        442 non-null    int64  \n",
      " 2   age      442 non-null    float64\n",
      " 3   sex      442 non-null    float64\n",
      " 4   bmi      442 non-null    float64\n",
      " 5   map      442 non-null    float64\n",
      " 6   tc       442 non-null    float64\n",
      " 7   ldl      442 non-null    float64\n",
      " 8   hdl      442 non-null    float64\n",
      " 9   tch      442 non-null    float64\n",
      " 10  ltg      442 non-null    float64\n",
      " 11  glu      442 non-null    float64\n",
      " 12  age^2    442 non-null    float64\n",
      " 13  bmi^2    442 non-null    float64\n",
      " 14  map^2    442 non-null    float64\n",
      " 15  tc^2     442 non-null    float64\n",
      " 16  ldl^2    442 non-null    float64\n",
      " 17  hdl^2    442 non-null    float64\n",
      " 18  tch^2    442 non-null    float64\n",
      " 19  ltg^2    442 non-null    float64\n",
      " 20  glu^2    442 non-null    float64\n",
      " 21  age:sex  442 non-null    float64\n",
      " 22  age:bmi  442 non-null    float64\n",
      " 23  age:map  442 non-null    float64\n",
      " 24  age:tc   442 non-null    float64\n",
      " 25  age:ldl  442 non-null    float64\n",
      " 26  age:hdl  442 non-null    float64\n",
      " 27  age:tch  442 non-null    float64\n",
      " 28  age:ltg  442 non-null    float64\n",
      " 29  age:glu  442 non-null    float64\n",
      " 30  sex:bmi  442 non-null    float64\n",
      " 31  sex:map  442 non-null    float64\n",
      " 32  sex:tc   442 non-null    float64\n",
      " 33  sex:ldl  442 non-null    float64\n",
      " 34  sex:hdl  442 non-null    float64\n",
      " 35  sex:tch  442 non-null    float64\n",
      " 36  sex:ltg  442 non-null    float64\n",
      " 37  sex:glu  442 non-null    float64\n",
      " 38  bmi:map  442 non-null    float64\n",
      " 39  bmi:tc   442 non-null    float64\n",
      " 40  bmi:ldl  442 non-null    float64\n",
      " 41  bmi:hdl  442 non-null    float64\n",
      " 42  bmi:tch  442 non-null    float64\n",
      " 43  bmi:ltg  442 non-null    float64\n",
      " 44  bmi:glu  442 non-null    float64\n",
      " 45  map:tc   442 non-null    float64\n",
      " 46  map:ldl  442 non-null    float64\n",
      " 47  map:hdl  442 non-null    float64\n",
      " 48  map:tch  442 non-null    float64\n",
      " 49  map:ltg  442 non-null    float64\n",
      " 50  map:glu  442 non-null    float64\n",
      " 51  tc:ldl   442 non-null    float64\n",
      " 52  tc:hdl   442 non-null    float64\n",
      " 53  tc:tch   442 non-null    float64\n",
      " 54  tc:ltg   442 non-null    float64\n",
      " 55  tc:glu   442 non-null    float64\n",
      " 56  ldl:hdl  442 non-null    float64\n",
      " 57  ldl:tch  442 non-null    float64\n",
      " 58  ldl:ltg  442 non-null    float64\n",
      " 59  ldl:glu  442 non-null    float64\n",
      " 60  hdl:tch  442 non-null    float64\n",
      " 61  hdl:ltg  442 non-null    float64\n",
      " 62  hdl:glu  442 non-null    float64\n",
      " 63  tch:ltg  442 non-null    float64\n",
      " 64  tch:glu  442 non-null    float64\n",
      " 65  ltg:glu  442 non-null    float64\n",
      "dtypes: float64(64), int64(2)\n",
      "memory usage: 228.0 KB\n"
     ]
    }
   ],
   "source": [
    "df.info()"
   ]
  },
  {
   "cell_type": "markdown",
   "metadata": {},
   "source": [
    "The dataframe has been split in a 70% train sample and a 30% test sample in the files <df_train.csv> and <df_test.csv>"
   ]
  },
  {
   "cell_type": "code",
   "execution_count": 8,
   "metadata": {},
   "outputs": [],
   "source": [
    "df_train = pd.read_csv(\"df_train.csv\")\n",
    "df_test = pd.read_csv(\"df_test.csv\")"
   ]
  },
  {
   "cell_type": "code",
   "execution_count": 9,
   "metadata": {},
   "outputs": [
    {
     "name": "stdout",
     "output_type": "stream",
     "text": [
      "<class 'pandas.core.frame.DataFrame'>\n",
      "RangeIndex: 309 entries, 0 to 308\n",
      "Data columns (total 66 columns):\n",
      " #   Column     Non-Null Count  Dtype  \n",
      "---  ------     --------------  -----  \n",
      " 0   train.obs  309 non-null    int64  \n",
      " 1   y          309 non-null    int64  \n",
      " 2   age        309 non-null    float64\n",
      " 3   sex        309 non-null    float64\n",
      " 4   bmi        309 non-null    float64\n",
      " 5   map        309 non-null    float64\n",
      " 6   tc         309 non-null    float64\n",
      " 7   ldl        309 non-null    float64\n",
      " 8   hdl        309 non-null    float64\n",
      " 9   tch        309 non-null    float64\n",
      " 10  ltg        309 non-null    float64\n",
      " 11  glu        309 non-null    float64\n",
      " 12  age^2      309 non-null    float64\n",
      " 13  bmi^2      309 non-null    float64\n",
      " 14  map^2      309 non-null    float64\n",
      " 15  tc^2       309 non-null    float64\n",
      " 16  ldl^2      309 non-null    float64\n",
      " 17  hdl^2      309 non-null    float64\n",
      " 18  tch^2      309 non-null    float64\n",
      " 19  ltg^2      309 non-null    float64\n",
      " 20  glu^2      309 non-null    float64\n",
      " 21  age:sex    309 non-null    float64\n",
      " 22  age:bmi    309 non-null    float64\n",
      " 23  age:map    309 non-null    float64\n",
      " 24  age:tc     309 non-null    float64\n",
      " 25  age:ldl    309 non-null    float64\n",
      " 26  age:hdl    309 non-null    float64\n",
      " 27  age:tch    309 non-null    float64\n",
      " 28  age:ltg    309 non-null    float64\n",
      " 29  age:glu    309 non-null    float64\n",
      " 30  sex:bmi    309 non-null    float64\n",
      " 31  sex:map    309 non-null    float64\n",
      " 32  sex:tc     309 non-null    float64\n",
      " 33  sex:ldl    309 non-null    float64\n",
      " 34  sex:hdl    309 non-null    float64\n",
      " 35  sex:tch    309 non-null    float64\n",
      " 36  sex:ltg    309 non-null    float64\n",
      " 37  sex:glu    309 non-null    float64\n",
      " 38  bmi:map    309 non-null    float64\n",
      " 39  bmi:tc     309 non-null    float64\n",
      " 40  bmi:ldl    309 non-null    float64\n",
      " 41  bmi:hdl    309 non-null    float64\n",
      " 42  bmi:tch    309 non-null    float64\n",
      " 43  bmi:ltg    309 non-null    float64\n",
      " 44  bmi:glu    309 non-null    float64\n",
      " 45  map:tc     309 non-null    float64\n",
      " 46  map:ldl    309 non-null    float64\n",
      " 47  map:hdl    309 non-null    float64\n",
      " 48  map:tch    309 non-null    float64\n",
      " 49  map:ltg    309 non-null    float64\n",
      " 50  map:glu    309 non-null    float64\n",
      " 51  tc:ldl     309 non-null    float64\n",
      " 52  tc:hdl     309 non-null    float64\n",
      " 53  tc:tch     309 non-null    float64\n",
      " 54  tc:ltg     309 non-null    float64\n",
      " 55  tc:glu     309 non-null    float64\n",
      " 56  ldl:hdl    309 non-null    float64\n",
      " 57  ldl:tch    309 non-null    float64\n",
      " 58  ldl:ltg    309 non-null    float64\n",
      " 59  ldl:glu    309 non-null    float64\n",
      " 60  hdl:tch    309 non-null    float64\n",
      " 61  hdl:ltg    309 non-null    float64\n",
      " 62  hdl:glu    309 non-null    float64\n",
      " 63  tch:ltg    309 non-null    float64\n",
      " 64  tch:glu    309 non-null    float64\n",
      " 65  ltg:glu    309 non-null    float64\n",
      "dtypes: float64(64), int64(2)\n",
      "memory usage: 159.5 KB\n"
     ]
    }
   ],
   "source": [
    "df_train.info()"
   ]
  },
  {
   "cell_type": "code",
   "execution_count": 10,
   "metadata": {},
   "outputs": [],
   "source": [
    "y_train = df_train[\"y\"]\n",
    "X_train = df_train.drop([\"y\",\"train.obs\"], axis=1)\n",
    "y_test = df_test[\"y\"]\n",
    "X_test = df_test.drop([\"y\",\"test.obs\"], axis=1)"
   ]
  },
  {
   "cell_type": "code",
   "execution_count": 11,
   "metadata": {},
   "outputs": [],
   "source": [
    "baseline = np.mean(y_train)"
   ]
  },
  {
   "cell_type": "markdown",
   "metadata": {},
   "source": [
    "## 3. Some (Un-regularized) Linear Regression Models"
   ]
  },
  {
   "cell_type": "markdown",
   "metadata": {},
   "source": [
    "I'll ignore multi-collinearity in the interest of time,\n",
    "(Note: In Ridge and LASSO regression below, we don't normally check for multi-collinearity)"
   ]
  },
  {
   "cell_type": "markdown",
   "metadata": {},
   "source": [
    "#### M0: All 64 variables"
   ]
  },
  {
   "cell_type": "code",
   "execution_count": 12,
   "metadata": {},
   "outputs": [
    {
     "data": {
      "text/plain": [
       "LinearRegression()"
      ]
     },
     "execution_count": 12,
     "metadata": {},
     "output_type": "execute_result"
    }
   ],
   "source": [
    "lr_mod0 = LinearRegression()\n",
    "lr_mod0.fit(X_train, y_train)"
   ]
  },
  {
   "cell_type": "code",
   "execution_count": 13,
   "metadata": {},
   "outputs": [
    {
     "name": "stdout",
     "output_type": "stream",
     "text": [
      "Linear Regression train R2:  0.6307558171804573\n",
      "Linear Regression test R2:  0.33911687167391835\n"
     ]
    }
   ],
   "source": [
    "print(\"Linear Regression train R2: \", lr_mod0.score(X_train, y_train))\n",
    "print(\"Linear Regression test R2: \", lr_mod0.score(X_test, y_test))"
   ]
  },
  {
   "cell_type": "code",
   "execution_count": 14,
   "metadata": {},
   "outputs": [],
   "source": [
    "y_pred = lr_mod0.predict(X_train)"
   ]
  },
  {
   "cell_type": "markdown",
   "metadata": {},
   "source": [
    "#### M2: Only the 6 serum variables"
   ]
  },
  {
   "cell_type": "code",
   "execution_count": 15,
   "metadata": {},
   "outputs": [],
   "source": [
    "mod2_vars = [\"tc\",\"ldl\",\"hdl\",\"tch\",\"ltg\",\"glu\"]"
   ]
  },
  {
   "cell_type": "code",
   "execution_count": 16,
   "metadata": {},
   "outputs": [],
   "source": [
    "X_train_mod2 = X_train[mod2_vars]\n",
    "X_test_mod2 = X_test[mod2_vars]"
   ]
  },
  {
   "cell_type": "code",
   "execution_count": 17,
   "metadata": {},
   "outputs": [
    {
     "data": {
      "text/plain": [
       "LinearRegression()"
      ]
     },
     "execution_count": 17,
     "metadata": {},
     "output_type": "execute_result"
    }
   ],
   "source": [
    "lr_mod2 = LinearRegression()\n",
    "lr_mod2.fit(X_train_mod2, y_train)"
   ]
  },
  {
   "cell_type": "code",
   "execution_count": 18,
   "metadata": {},
   "outputs": [
    {
     "name": "stdout",
     "output_type": "stream",
     "text": [
      "Linear Regression train R2:  0.36663416413717786\n",
      "Linear Regression test R2:  0.3873010981999875\n"
     ]
    }
   ],
   "source": [
    "print(\"Linear Regression train R2: \", lr_mod2.score(X_train_mod2, y_train))\n",
    "print(\"Linear Regression test R2: \", lr_mod2.score(X_test_mod2, y_test))"
   ]
  },
  {
   "cell_type": "markdown",
   "metadata": {},
   "source": [
    "## 4. Ridge Regression"
   ]
  },
  {
   "cell_type": "markdown",
   "metadata": {},
   "source": [
    "https://scikit-learn.org/stable/modules/generated/sklearn.linear_model.Ridge.html"
   ]
  },
  {
   "cell_type": "code",
   "execution_count": 19,
   "metadata": {},
   "outputs": [],
   "source": [
    "ridge_mod = Ridge(alpha=1, solver=\"cholesky\")"
   ]
  },
  {
   "cell_type": "code",
   "execution_count": 20,
   "metadata": {},
   "outputs": [
    {
     "data": {
      "text/plain": [
       "Ridge(alpha=1, solver='cholesky')"
      ]
     },
     "execution_count": 20,
     "metadata": {},
     "output_type": "execute_result"
    }
   ],
   "source": [
    "ridge_mod.fit(X_train, y_train)"
   ]
  },
  {
   "cell_type": "markdown",
   "metadata": {},
   "source": [
    "Note: Can use the predict() and get_params() methods"
   ]
  },
  {
   "cell_type": "code",
   "execution_count": 21,
   "metadata": {},
   "outputs": [
    {
     "name": "stdout",
     "output_type": "stream",
     "text": [
      "Ridge Regression train R2:  0.49993800389441023\n",
      "Ridge Regression test R2:  0.3863128498481291\n"
     ]
    }
   ],
   "source": [
    "print(\"Ridge Regression train R2: \", ridge_mod.score(X_train, y_train))\n",
    "print(\"Ridge Regression test R2: \", ridge_mod.score(X_test, y_test))"
   ]
  },
  {
   "cell_type": "markdown",
   "metadata": {},
   "source": [
    "#### With CV"
   ]
  },
  {
   "cell_type": "code",
   "execution_count": 22,
   "metadata": {},
   "outputs": [],
   "source": [
    "alphas=np.logspace(-1, 2, 4)"
   ]
  },
  {
   "cell_type": "code",
   "execution_count": 23,
   "metadata": {},
   "outputs": [],
   "source": [
    "ridge_mod_cv = RidgeCV(alphas=alphas, store_cv_values=True)"
   ]
  },
  {
   "cell_type": "code",
   "execution_count": 24,
   "metadata": {},
   "outputs": [
    {
     "data": {
      "text/plain": [
       "RidgeCV(alphas=array([  0.1,   1. ,  10. , 100. ]), store_cv_values=True)"
      ]
     },
     "execution_count": 24,
     "metadata": {},
     "output_type": "execute_result"
    }
   ],
   "source": [
    "ridge_mod_cv.fit(X_train, y_train)"
   ]
  },
  {
   "cell_type": "code",
   "execution_count": 25,
   "metadata": {},
   "outputs": [
    {
     "data": {
      "text/plain": [
       "0.1"
      ]
     },
     "execution_count": 25,
     "metadata": {},
     "output_type": "execute_result"
    }
   ],
   "source": [
    "ridge_mod_cv.alpha_"
   ]
  },
  {
   "cell_type": "code",
   "execution_count": 26,
   "metadata": {},
   "outputs": [],
   "source": [
    "#ridge_mod_cv.cv_values_"
   ]
  },
  {
   "cell_type": "code",
   "execution_count": 27,
   "metadata": {},
   "outputs": [
    {
     "name": "stdout",
     "output_type": "stream",
     "text": [
      "Ridge Regression with CV train R2:  0.6015142137574825\n",
      "Ridge Regression with CV test R2:  0.42276773019552205\n"
     ]
    }
   ],
   "source": [
    "print(\"Ridge Regression with CV train R2: \", ridge_mod_cv.score(X_train, y_train))\n",
    "print(\"Ridge Regression with CV test R2: \", ridge_mod_cv.score(X_test, y_test))"
   ]
  },
  {
   "cell_type": "markdown",
   "metadata": {},
   "source": [
    "#### Compute and Display Paths"
   ]
  },
  {
   "cell_type": "code",
   "execution_count": 28,
   "metadata": {},
   "outputs": [],
   "source": [
    "alphas=np.logspace(-5, +10, 16, base=np.e)"
   ]
  },
  {
   "cell_type": "code",
   "execution_count": 29,
   "metadata": {},
   "outputs": [],
   "source": [
    "coefs = []\n",
    "for a in alphas:\n",
    "    ridge = Ridge(alpha=a, solver=\"cholesky\")\n",
    "    ridge.fit(X_train, y_train)\n",
    "    coefs.append(ridge.coef_)"
   ]
  },
  {
   "cell_type": "code",
   "execution_count": 30,
   "metadata": {
    "scrolled": false
   },
   "outputs": [
    {
     "data": {
      "image/png": "[encoded data removed]",
      "text/plain": [
       "<Figure size 432x288 with 1 Axes>"
      ]
     },
     "metadata": {
      "needs_background": "light"
     },
     "output_type": "display_data"
    }
   ],
   "source": [
    "ax = plt.gca()\n",
    "ax.plot(alphas, coefs)\n",
    "ax.set_xscale(\"log\")\n",
    "plt.ylim(-1000, +1000)\n",
    "plt.xlabel(\"alpha\")\n",
    "plt.ylabel(\"weights\")\n",
    "plt.title(\"Ridge coefficients as a function of the regularization\")\n",
    "#plt.axis(\"tight\")\n",
    "plt.show()"
   ]
  },
  {
   "cell_type": "markdown",
   "metadata": {},
   "source": [
    "Perhaps a better graphing code:\n",
    "https://scikit-learn.org/stable/auto_examples/linear_model/plot_lasso_coordinate_descent_path.html#sphx-glr-auto-examples-linear-model-plot-lasso-coordinate-descent-path-py"
   ]
  },
  {
   "cell_type": "markdown",
   "metadata": {},
   "source": [
    "## 5. LASSO Regression"
   ]
  },
  {
   "cell_type": "markdown",
   "metadata": {},
   "source": [
    "https://scikit-learn.org/stable/modules/generated/sklearn.linear_model.Lasso.html"
   ]
  },
  {
   "cell_type": "code",
   "execution_count": 31,
   "metadata": {},
   "outputs": [],
   "source": [
    "lasso_mod = Lasso(alpha=1)"
   ]
  },
  {
   "cell_type": "code",
   "execution_count": 32,
   "metadata": {},
   "outputs": [
    {
     "data": {
      "text/plain": [
       "Lasso(alpha=1)"
      ]
     },
     "execution_count": 32,
     "metadata": {},
     "output_type": "execute_result"
    }
   ],
   "source": [
    "lasso_mod.fit(X_train, y_train)"
   ]
  },
  {
   "cell_type": "markdown",
   "metadata": {},
   "source": [
    "Note: Can use the predict() and get_params() methods"
   ]
  },
  {
   "cell_type": "code",
   "execution_count": 33,
   "metadata": {},
   "outputs": [
    {
     "name": "stdout",
     "output_type": "stream",
     "text": [
      "LASSO Regression train R2:  0.38907707594305974\n",
      "LASSO Regression test R2:  0.31364192994133555\n"
     ]
    }
   ],
   "source": [
    "print(\"LASSO Regression train R2: \", lasso_mod.score(X_train, y_train))\n",
    "print(\"LASSO Regression test R2: \", lasso_mod.score(X_test, y_test))"
   ]
  },
  {
   "cell_type": "markdown",
   "metadata": {},
   "source": [
    "#### With CV"
   ]
  },
  {
   "cell_type": "code",
   "execution_count": 34,
   "metadata": {},
   "outputs": [],
   "source": [
    "alphas=np.logspace(-1, 2, 4)"
   ]
  },
  {
   "cell_type": "code",
   "execution_count": 35,
   "metadata": {},
   "outputs": [],
   "source": [
    "lasso_mod_cv = LassoCV(alphas=alphas)"
   ]
  },
  {
   "cell_type": "code",
   "execution_count": 36,
   "metadata": {},
   "outputs": [
    {
     "data": {
      "text/plain": [
       "LassoCV(alphas=array([  0.1,   1. ,  10. , 100. ]))"
      ]
     },
     "execution_count": 36,
     "metadata": {},
     "output_type": "execute_result"
    }
   ],
   "source": [
    "lasso_mod_cv.fit(X_train, y_train)"
   ]
  },
  {
   "cell_type": "code",
   "execution_count": 37,
   "metadata": {},
   "outputs": [
    {
     "data": {
      "text/plain": [
       "0.1"
      ]
     },
     "execution_count": 37,
     "metadata": {},
     "output_type": "execute_result"
    }
   ],
   "source": [
    "lasso_mod_cv.alpha_"
   ]
  },
  {
   "cell_type": "code",
   "execution_count": 38,
   "metadata": {},
   "outputs": [
    {
     "name": "stdout",
     "output_type": "stream",
     "text": [
      "LASSO Regression with CV train R2:  0.5730385944532028\n",
      "LASSO Regression with CV test R2:  0.4392288550837622\n"
     ]
    }
   ],
   "source": [
    "print(\"LASSO Regression with CV train R2: \", lasso_mod_cv.score(X_train, y_train))\n",
    "print(\"LASSO Regression with CV test R2: \", lasso_mod_cv.score(X_test, y_test))"
   ]
  },
  {
   "cell_type": "markdown",
   "metadata": {},
   "source": [
    "#### Compute and Display Paths"
   ]
  },
  {
   "cell_type": "code",
   "execution_count": 39,
   "metadata": {},
   "outputs": [],
   "source": [
    "alphas=np.logspace(-5, +5, 11, base=np.e)"
   ]
  },
  {
   "cell_type": "code",
   "execution_count": 40,
   "metadata": {},
   "outputs": [],
   "source": [
    "coefs = []\n",
    "for a in alphas:\n",
    "    lasso = Lasso(alpha=a)\n",
    "    lasso.fit(X_train, y_train)\n",
    "    coefs.append(lasso.coef_)"
   ]
  },
  {
   "cell_type": "code",
   "execution_count": 41,
   "metadata": {},
   "outputs": [
    {
     "data": {
      "image/png": "[encoded data removed]",
      "text/plain": [
       "<Figure size 432x288 with 1 Axes>"
      ]
     },
     "metadata": {
      "needs_background": "light"
     },
     "output_type": "display_data"
    }
   ],
   "source": [
    "ax = plt.gca()\n",
    "ax.plot(alphas, coefs)\n",
    "ax.set_xscale(\"log\")\n",
    "plt.ylim(-1000, +1000)\n",
    "plt.xlabel(\"alpha\")\n",
    "plt.ylabel(\"weights\")\n",
    "plt.title(\"Lasso coefficients as a function of the regularization\")\n",
    "plt.axis(\"tight\")\n",
    "plt.show()"
   ]
  },
  {
   "cell_type": "markdown",
   "metadata": {},
   "source": [
    "## 6. ElasticNet Regression"
   ]
  },
  {
   "cell_type": "markdown",
   "metadata": {},
   "source": [
    "https://scikit-learn.org/stable/modules/generated/sklearn.linear_model.ElasticNet.html"
   ]
  },
  {
   "cell_type": "code",
   "execution_count": 42,
   "metadata": {},
   "outputs": [
    {
     "data": {
      "text/plain": [
       "ElasticNet(alpha=0.1)"
      ]
     },
     "execution_count": 42,
     "metadata": {},
     "output_type": "execute_result"
    }
   ],
   "source": [
    "elasticNet_mod = ElasticNet(alpha=0.1, l1_ratio=0.5)\n",
    "elasticNet_mod.fit(X_train, y_train)"
   ]
  },
  {
   "cell_type": "code",
   "execution_count": 43,
   "metadata": {},
   "outputs": [
    {
     "name": "stdout",
     "output_type": "stream",
     "text": [
      "ElasticNet Regression train R2:  0.1375354305893971\n",
      "ElasticNet Regression test R2:  0.10966958271575922\n"
     ]
    }
   ],
   "source": [
    "print(\"ElasticNet Regression train R2: \", elasticNet_mod.score(X_train, y_train))\n",
    "print(\"ElasticNet Regression test R2: \", elasticNet_mod.score(X_test, y_test))"
   ]
  },
  {
   "cell_type": "markdown",
   "metadata": {},
   "source": [
    "#### With CV"
   ]
  },
  {
   "cell_type": "code",
   "execution_count": 44,
   "metadata": {},
   "outputs": [],
   "source": [
    "elasticNet_mod_cv = ElasticNetCV(alphas=alphas, l1_ratio=[0.1, 0.2, 0.3, 0.4, 0.5, 0.6, 0.7, 0.8, 0.9], max_iter=1000)"
   ]
  },
  {
   "cell_type": "code",
   "execution_count": 45,
   "metadata": {},
   "outputs": [
    {
     "data": {
      "text/plain": [
       "ElasticNetCV(alphas=array([6.73794700e-03, 1.83156389e-02, 4.97870684e-02, 1.35335283e-01,\n",
       "       3.67879441e-01, 1.00000000e+00, 2.71828183e+00, 7.38905610e+00,\n",
       "       2.00855369e+01, 5.45981500e+01, 1.48413159e+02]),\n",
       "             l1_ratio=[0.1, 0.2, 0.3, 0.4, 0.5, 0.6, 0.7, 0.8, 0.9])"
      ]
     },
     "execution_count": 45,
     "metadata": {},
     "output_type": "execute_result"
    }
   ],
   "source": [
    "elasticNet_mod_cv.fit(X_train, y_train)"
   ]
  },
  {
   "cell_type": "code",
   "execution_count": 46,
   "metadata": {},
   "outputs": [
    {
     "name": "stdout",
     "output_type": "stream",
     "text": [
      "ElasticNet Regression with CV train R2:  0.5835511676117848\n",
      "ElasticNet Regression with CV test R2:  0.42808132401553\n"
     ]
    }
   ],
   "source": [
    "print(\"ElasticNet Regression with CV train R2: \", elasticNet_mod_cv.score(X_train, y_train))\n",
    "print(\"ElasticNet Regression with CV test R2: \", elasticNet_mod_cv.score(X_test, y_test))"
   ]
  },
  {
   "cell_type": "markdown",
   "metadata": {},
   "source": [
    "## END"
   ]
  }
 ],
 "metadata": {
  "colab": {
   "collapsed_sections": [
    "cbEQlIplwY5k",
    "EBUEG5-Cnglm",
    "HBHgRvCEzJAD",
    "IeWbEvilxC5P",
    "Rhly7BwrzPdf",
    "neI3PXRV5Y5f",
    "t5h7PZ-Q6L09",
    "0Nlsk4V16P08",
    "fnWLIf0r_POH",
    "rnvyAlV5_mMz",
    "OQk3oN_T_yl2",
    "2FCZXiuY_uIf",
    "GS1h4S8LvHyJ"
   ],
   "name": "2021_10_01_meeting.ipynb",
   "provenance": []
  },
  "finalized": {
   "timestamp": 1653670308085,
   "trusted": true
  },
  "kernelspec": {
   "display_name": "Python 3 (ipykernel)",
   "language": "python",
   "name": "python3"
  },
  "language_info": {
   "codemirror_mode": {
    "name": "ipython",
    "version": 3
   },
   "file_extension": ".py",
   "mimetype": "text/x-python",
   "name": "python",
   "nbconvert_exporter": "python",
   "pygments_lexer": "ipython3",
   "version": "3.9.12"
  }
 },
 "nbformat": 4,
 "nbformat_minor": 4
}
