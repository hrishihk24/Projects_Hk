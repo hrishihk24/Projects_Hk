{
 "cells": [
  {
   "cell_type": "markdown",
   "metadata": {},
   "source": [
    "## 46-886\n",
    "\n",
    "## Data Clustering using KMeans\n",
    "\n",
    "Amr Farahat\n",
    "\n",
    "CMU / Tepper\n",
    "\n",
    "2023-03-08\n",
    "\n",
    "---"
   ]
  },
  {
   "cell_type": "markdown",
   "metadata": {},
   "source": [
    "## Setting up"
   ]
  },
  {
   "cell_type": "code",
   "execution_count": 1,
   "metadata": {},
   "outputs": [],
   "source": [
    "import numpy as np\n",
    "import pandas as pd\n",
    "import matplotlib.pyplot as plt\n",
    "from sklearn.preprocessing import StandardScaler\n",
    "from sklearn.cluster import KMeans # Main analysis package\n",
    "from sklearn.metrics import silhouette_score\n",
    "# requires: conda install -c conda-forge scikit-plot\n",
    "import scikitplot as skplt"
   ]
  },
  {
   "cell_type": "code",
   "execution_count": 2,
   "metadata": {},
   "outputs": [],
   "source": [
    "pd.options.display.max_columns = None"
   ]
  },
  {
   "cell_type": "markdown",
   "metadata": {},
   "source": [
    "### Importing data"
   ]
  },
  {
   "cell_type": "code",
   "execution_count": 3,
   "metadata": {},
   "outputs": [],
   "source": [
    "df = pd.read_csv(\"airline_loyalty_program.csv\")"
   ]
  },
  {
   "cell_type": "code",
   "execution_count": 4,
   "metadata": {},
   "outputs": [
    {
     "name": "stdout",
     "output_type": "stream",
     "text": [
      "<class 'pandas.core.frame.DataFrame'>\n",
      "RangeIndex: 3999 entries, 0 to 3998\n",
      "Data columns (total 6 columns):\n",
      " #   Column           Non-Null Count  Dtype\n",
      "---  ------           --------------  -----\n",
      " 0   Balance          3999 non-null   int64\n",
      " 1   BonusMiles       3999 non-null   int64\n",
      " 2   BonusTrans       3999 non-null   int64\n",
      " 3   DaysSinceEnroll  3999 non-null   int64\n",
      " 4   FlightMiles      3999 non-null   int64\n",
      " 5   FlightTrans      3999 non-null   int64\n",
      "dtypes: int64(6)\n",
      "memory usage: 187.6 KB\n"
     ]
    }
   ],
   "source": [
    "df.info()"
   ]
  },
  {
   "cell_type": "code",
   "execution_count": 5,
   "metadata": {
    "scrolled": false
   },
   "outputs": [
    {
     "data": {
      "text/html": [
       "<div>\n",
       "<style scoped>\n",
       "    .dataframe tbody tr th:only-of-type {\n",
       "        vertical-align: middle;\n",
       "    }\n",
       "\n",
       "    .dataframe tbody tr th {\n",
       "        vertical-align: top;\n",
       "    }\n",
       "\n",
       "    .dataframe thead th {\n",
       "        text-align: right;\n",
       "    }\n",
       "</style>\n",
       "<table border=\"1\" class=\"dataframe\">\n",
       "  <thead>\n",
       "    <tr style=\"text-align: right;\">\n",
       "      <th></th>\n",
       "      <th>Balance</th>\n",
       "      <th>BonusMiles</th>\n",
       "      <th>BonusTrans</th>\n",
       "      <th>DaysSinceEnroll</th>\n",
       "      <th>FlightMiles</th>\n",
       "      <th>FlightTrans</th>\n",
       "    </tr>\n",
       "  </thead>\n",
       "  <tbody>\n",
       "    <tr>\n",
       "      <th>0</th>\n",
       "      <td>48296</td>\n",
       "      <td>31329</td>\n",
       "      <td>9</td>\n",
       "      <td>3061</td>\n",
       "      <td>500</td>\n",
       "      <td>1</td>\n",
       "    </tr>\n",
       "    <tr>\n",
       "      <th>1</th>\n",
       "      <td>10021</td>\n",
       "      <td>0</td>\n",
       "      <td>0</td>\n",
       "      <td>7879</td>\n",
       "      <td>0</td>\n",
       "      <td>0</td>\n",
       "    </tr>\n",
       "    <tr>\n",
       "      <th>2</th>\n",
       "      <td>49280</td>\n",
       "      <td>22370</td>\n",
       "      <td>16</td>\n",
       "      <td>3312</td>\n",
       "      <td>0</td>\n",
       "      <td>0</td>\n",
       "    </tr>\n",
       "    <tr>\n",
       "      <th>3</th>\n",
       "      <td>213539</td>\n",
       "      <td>2750</td>\n",
       "      <td>15</td>\n",
       "      <td>4751</td>\n",
       "      <td>0</td>\n",
       "      <td>0</td>\n",
       "    </tr>\n",
       "    <tr>\n",
       "      <th>4</th>\n",
       "      <td>125465</td>\n",
       "      <td>14750</td>\n",
       "      <td>9</td>\n",
       "      <td>7206</td>\n",
       "      <td>0</td>\n",
       "      <td>0</td>\n",
       "    </tr>\n",
       "    <tr>\n",
       "      <th>...</th>\n",
       "      <td>...</td>\n",
       "      <td>...</td>\n",
       "      <td>...</td>\n",
       "      <td>...</td>\n",
       "      <td>...</td>\n",
       "      <td>...</td>\n",
       "    </tr>\n",
       "    <tr>\n",
       "      <th>3994</th>\n",
       "      <td>3016</td>\n",
       "      <td>0</td>\n",
       "      <td>0</td>\n",
       "      <td>1398</td>\n",
       "      <td>0</td>\n",
       "      <td>0</td>\n",
       "    </tr>\n",
       "    <tr>\n",
       "      <th>3995</th>\n",
       "      <td>28577</td>\n",
       "      <td>48564</td>\n",
       "      <td>14</td>\n",
       "      <td>3586</td>\n",
       "      <td>0</td>\n",
       "      <td>0</td>\n",
       "    </tr>\n",
       "    <tr>\n",
       "      <th>3996</th>\n",
       "      <td>276571</td>\n",
       "      <td>42044</td>\n",
       "      <td>23</td>\n",
       "      <td>7872</td>\n",
       "      <td>0</td>\n",
       "      <td>0</td>\n",
       "    </tr>\n",
       "    <tr>\n",
       "      <th>3997</th>\n",
       "      <td>28848</td>\n",
       "      <td>0</td>\n",
       "      <td>0</td>\n",
       "      <td>3069</td>\n",
       "      <td>0</td>\n",
       "      <td>0</td>\n",
       "    </tr>\n",
       "    <tr>\n",
       "      <th>3998</th>\n",
       "      <td>96522</td>\n",
       "      <td>61105</td>\n",
       "      <td>19</td>\n",
       "      <td>6924</td>\n",
       "      <td>0</td>\n",
       "      <td>0</td>\n",
       "    </tr>\n",
       "  </tbody>\n",
       "</table>\n",
       "<p>3999 rows × 6 columns</p>\n",
       "</div>"
      ],
      "text/plain": [
       "      Balance  BonusMiles  BonusTrans  DaysSinceEnroll  FlightMiles  \\\n",
       "0       48296       31329           9             3061          500   \n",
       "1       10021           0           0             7879            0   \n",
       "2       49280       22370          16             3312            0   \n",
       "3      213539        2750          15             4751            0   \n",
       "4      125465       14750           9             7206            0   \n",
       "...       ...         ...         ...              ...          ...   \n",
       "3994     3016           0           0             1398            0   \n",
       "3995    28577       48564          14             3586            0   \n",
       "3996   276571       42044          23             7872            0   \n",
       "3997    28848           0           0             3069            0   \n",
       "3998    96522       61105          19             6924            0   \n",
       "\n",
       "      FlightTrans  \n",
       "0               1  \n",
       "1               0  \n",
       "2               0  \n",
       "3               0  \n",
       "4               0  \n",
       "...           ...  \n",
       "3994            0  \n",
       "3995            0  \n",
       "3996            0  \n",
       "3997            0  \n",
       "3998            0  \n",
       "\n",
       "[3999 rows x 6 columns]"
      ]
     },
     "execution_count": 5,
     "metadata": {},
     "output_type": "execute_result"
    }
   ],
   "source": [
    "df"
   ]
  },
  {
   "cell_type": "markdown",
   "metadata": {},
   "source": [
    "### Standardizing data"
   ]
  },
  {
   "cell_type": "code",
   "execution_count": 6,
   "metadata": {},
   "outputs": [
    {
     "data": {
      "text/plain": [
       "StandardScaler()"
      ]
     },
     "execution_count": 6,
     "metadata": {},
     "output_type": "execute_result"
    }
   ],
   "source": [
    "scaler = StandardScaler()\n",
    "scaler.fit(df)"
   ]
  },
  {
   "cell_type": "code",
   "execution_count": 7,
   "metadata": {},
   "outputs": [
    {
     "data": {
      "text/plain": [
       "array([7.36013276e+04, 1.71448462e+04, 1.16019005e+01, 4.11855939e+03,\n",
       "       4.60055764e+02, 1.37359340e+00])"
      ]
     },
     "execution_count": 7,
     "metadata": {},
     "output_type": "execute_result"
    }
   ],
   "source": [
    "scaler.mean_"
   ]
  },
  {
   "cell_type": "code",
   "execution_count": 8,
   "metadata": {},
   "outputs": [
    {
     "data": {
      "text/plain": [
       "array([1.00763064e+05, 2.41479480e+04, 9.60260948e+00, 2.06487632e+03,\n",
       "       1.40003409e+03, 3.79269812e+00])"
      ]
     },
     "execution_count": 8,
     "metadata": {},
     "output_type": "execute_result"
    }
   ],
   "source": [
    "scaler.scale_"
   ]
  },
  {
   "cell_type": "code",
   "execution_count": 9,
   "metadata": {},
   "outputs": [],
   "source": [
    "standardized_df = df.copy()\n",
    "standardized_array = scaler.transform(standardized_df)"
   ]
  },
  {
   "cell_type": "code",
   "execution_count": 10,
   "metadata": {},
   "outputs": [],
   "source": [
    "standardized_array = pd.DataFrame(scaler.transform(standardized_df))\n",
    "standardized_df[:] = standardized_array"
   ]
  },
  {
   "cell_type": "code",
   "execution_count": 11,
   "metadata": {},
   "outputs": [
    {
     "data": {
      "text/html": [
       "<div>\n",
       "<style scoped>\n",
       "    .dataframe tbody tr th:only-of-type {\n",
       "        vertical-align: middle;\n",
       "    }\n",
       "\n",
       "    .dataframe tbody tr th {\n",
       "        vertical-align: top;\n",
       "    }\n",
       "\n",
       "    .dataframe thead th {\n",
       "        text-align: right;\n",
       "    }\n",
       "</style>\n",
       "<table border=\"1\" class=\"dataframe\">\n",
       "  <thead>\n",
       "    <tr style=\"text-align: right;\">\n",
       "      <th></th>\n",
       "      <th>Balance</th>\n",
       "      <th>BonusMiles</th>\n",
       "      <th>BonusTrans</th>\n",
       "      <th>DaysSinceEnroll</th>\n",
       "      <th>FlightMiles</th>\n",
       "      <th>FlightTrans</th>\n",
       "    </tr>\n",
       "  </thead>\n",
       "  <tbody>\n",
       "    <tr>\n",
       "      <th>0</th>\n",
       "      <td>-0.251137</td>\n",
       "      <td>0.587385</td>\n",
       "      <td>-0.270958</td>\n",
       "      <td>-0.512166</td>\n",
       "      <td>0.028531</td>\n",
       "      <td>-0.098503</td>\n",
       "    </tr>\n",
       "    <tr>\n",
       "      <th>1</th>\n",
       "      <td>-0.630988</td>\n",
       "      <td>-0.709992</td>\n",
       "      <td>-1.208203</td>\n",
       "      <td>1.821146</td>\n",
       "      <td>-0.328603</td>\n",
       "      <td>-0.362168</td>\n",
       "    </tr>\n",
       "    <tr>\n",
       "      <th>2</th>\n",
       "      <td>-0.241371</td>\n",
       "      <td>0.216381</td>\n",
       "      <td>0.458011</td>\n",
       "      <td>-0.390609</td>\n",
       "      <td>-0.328603</td>\n",
       "      <td>-0.362168</td>\n",
       "    </tr>\n",
       "    <tr>\n",
       "      <th>3</th>\n",
       "      <td>1.388779</td>\n",
       "      <td>-0.596111</td>\n",
       "      <td>0.353873</td>\n",
       "      <td>0.306285</td>\n",
       "      <td>-0.328603</td>\n",
       "      <td>-0.362168</td>\n",
       "    </tr>\n",
       "    <tr>\n",
       "      <th>4</th>\n",
       "      <td>0.514709</td>\n",
       "      <td>-0.099174</td>\n",
       "      <td>-0.270958</td>\n",
       "      <td>1.495218</td>\n",
       "      <td>-0.328603</td>\n",
       "      <td>-0.362168</td>\n",
       "    </tr>\n",
       "    <tr>\n",
       "      <th>...</th>\n",
       "      <td>...</td>\n",
       "      <td>...</td>\n",
       "      <td>...</td>\n",
       "      <td>...</td>\n",
       "      <td>...</td>\n",
       "      <td>...</td>\n",
       "    </tr>\n",
       "    <tr>\n",
       "      <th>3994</th>\n",
       "      <td>-0.700508</td>\n",
       "      <td>-0.709992</td>\n",
       "      <td>-1.208203</td>\n",
       "      <td>-1.317541</td>\n",
       "      <td>-0.328603</td>\n",
       "      <td>-0.362168</td>\n",
       "    </tr>\n",
       "    <tr>\n",
       "      <th>3995</th>\n",
       "      <td>-0.446834</td>\n",
       "      <td>1.301111</td>\n",
       "      <td>0.249734</td>\n",
       "      <td>-0.257913</td>\n",
       "      <td>-0.328603</td>\n",
       "      <td>-0.362168</td>\n",
       "    </tr>\n",
       "    <tr>\n",
       "      <th>3996</th>\n",
       "      <td>2.014326</td>\n",
       "      <td>1.031108</td>\n",
       "      <td>1.186979</td>\n",
       "      <td>1.817756</td>\n",
       "      <td>-0.328603</td>\n",
       "      <td>-0.362168</td>\n",
       "    </tr>\n",
       "    <tr>\n",
       "      <th>3997</th>\n",
       "      <td>-0.444144</td>\n",
       "      <td>-0.709992</td>\n",
       "      <td>-1.208203</td>\n",
       "      <td>-0.508292</td>\n",
       "      <td>-0.328603</td>\n",
       "      <td>-0.362168</td>\n",
       "    </tr>\n",
       "    <tr>\n",
       "      <th>3998</th>\n",
       "      <td>0.227471</td>\n",
       "      <td>1.820451</td>\n",
       "      <td>0.770426</td>\n",
       "      <td>1.358648</td>\n",
       "      <td>-0.328603</td>\n",
       "      <td>-0.362168</td>\n",
       "    </tr>\n",
       "  </tbody>\n",
       "</table>\n",
       "<p>3999 rows × 6 columns</p>\n",
       "</div>"
      ],
      "text/plain": [
       "       Balance  BonusMiles  BonusTrans  DaysSinceEnroll  FlightMiles  \\\n",
       "0    -0.251137    0.587385   -0.270958        -0.512166     0.028531   \n",
       "1    -0.630988   -0.709992   -1.208203         1.821146    -0.328603   \n",
       "2    -0.241371    0.216381    0.458011        -0.390609    -0.328603   \n",
       "3     1.388779   -0.596111    0.353873         0.306285    -0.328603   \n",
       "4     0.514709   -0.099174   -0.270958         1.495218    -0.328603   \n",
       "...        ...         ...         ...              ...          ...   \n",
       "3994 -0.700508   -0.709992   -1.208203        -1.317541    -0.328603   \n",
       "3995 -0.446834    1.301111    0.249734        -0.257913    -0.328603   \n",
       "3996  2.014326    1.031108    1.186979         1.817756    -0.328603   \n",
       "3997 -0.444144   -0.709992   -1.208203        -0.508292    -0.328603   \n",
       "3998  0.227471    1.820451    0.770426         1.358648    -0.328603   \n",
       "\n",
       "      FlightTrans  \n",
       "0       -0.098503  \n",
       "1       -0.362168  \n",
       "2       -0.362168  \n",
       "3       -0.362168  \n",
       "4       -0.362168  \n",
       "...           ...  \n",
       "3994    -0.362168  \n",
       "3995    -0.362168  \n",
       "3996    -0.362168  \n",
       "3997    -0.362168  \n",
       "3998    -0.362168  \n",
       "\n",
       "[3999 rows x 6 columns]"
      ]
     },
     "execution_count": 11,
     "metadata": {},
     "output_type": "execute_result"
    }
   ],
   "source": [
    "standardized_df"
   ]
  },
  {
   "cell_type": "code",
   "execution_count": 12,
   "metadata": {},
   "outputs": [
    {
     "data": {
      "text/plain": [
       "Balance            2.627028e-17\n",
       "BonusMiles        -6.846237e-17\n",
       "BonusTrans         7.329304e-18\n",
       "DaysSinceEnroll    7.573614e-17\n",
       "FlightMiles        1.494456e-16\n",
       "FlightTrans       -1.596622e-16\n",
       "dtype: float64"
      ]
     },
     "execution_count": 12,
     "metadata": {},
     "output_type": "execute_result"
    }
   ],
   "source": [
    "standardized_df.mean()"
   ]
  },
  {
   "cell_type": "code",
   "execution_count": 13,
   "metadata": {},
   "outputs": [
    {
     "data": {
      "text/plain": [
       "Balance            1.000125\n",
       "BonusMiles         1.000125\n",
       "BonusTrans         1.000125\n",
       "DaysSinceEnroll    1.000125\n",
       "FlightMiles        1.000125\n",
       "FlightTrans        1.000125\n",
       "dtype: float64"
      ]
     },
     "execution_count": 13,
     "metadata": {},
     "output_type": "execute_result"
    }
   ],
   "source": [
    "standardized_df.std()"
   ]
  },
  {
   "cell_type": "markdown",
   "metadata": {},
   "source": [
    "### KMeans clustering (k=4)"
   ]
  },
  {
   "cell_type": "code",
   "execution_count": 14,
   "metadata": {},
   "outputs": [],
   "source": [
    "k = 4"
   ]
  },
  {
   "cell_type": "code",
   "execution_count": 15,
   "metadata": {},
   "outputs": [
    {
     "data": {
      "text/plain": [
       "KMeans(n_clusters=4, n_init=1, random_state=886)"
      ]
     },
     "execution_count": 15,
     "metadata": {},
     "output_type": "execute_result"
    }
   ],
   "source": [
    "clustering_kmeans = KMeans(n_clusters=k, n_init=1, random_state=886)\n",
    "#default values: n_clusters=8; n_init=10; \n",
    "clustering_kmeans.fit(standardized_df)"
   ]
  },
  {
   "cell_type": "code",
   "execution_count": 16,
   "metadata": {},
   "outputs": [
    {
     "data": {
      "text/plain": [
       "12235.689952989525"
      ]
     },
     "execution_count": 16,
     "metadata": {},
     "output_type": "execute_result"
    }
   ],
   "source": [
    "clustering_kmeans.inertia_"
   ]
  },
  {
   "cell_type": "code",
   "execution_count": 17,
   "metadata": {},
   "outputs": [
    {
     "data": {
      "text/plain": [
       "KMeans(n_clusters=4, n_init=100, random_state=886)"
      ]
     },
     "execution_count": 17,
     "metadata": {},
     "output_type": "execute_result"
    }
   ],
   "source": [
    "clustering_kmeans = KMeans(n_clusters=k, n_init=100, random_state=886)\n",
    "#default values: n_clusters=8; n_init=10; \n",
    "clustering_kmeans.fit(standardized_df)"
   ]
  },
  {
   "cell_type": "code",
   "execution_count": 18,
   "metadata": {},
   "outputs": [
    {
     "data": {
      "text/plain": [
       "12235.279464647003"
      ]
     },
     "execution_count": 18,
     "metadata": {},
     "output_type": "execute_result"
    }
   ],
   "source": [
    "clustering_kmeans.inertia_"
   ]
  },
  {
   "cell_type": "code",
   "execution_count": 19,
   "metadata": {},
   "outputs": [
    {
     "data": {
      "text/plain": [
       "array([[-0.16041975, -0.3413194 , -0.2482896 ,  0.82430396, -0.17509407,\n",
       "        -0.1888539 ],\n",
       "       [-0.35034317, -0.42799196, -0.41419444, -0.88780542, -0.1974103 ,\n",
       "        -0.21415119],\n",
       "       [ 1.01819265,  0.64962649,  1.7477244 ,  0.26016563,  3.83000177,\n",
       "         4.09431598],\n",
       "       [ 0.8467921 ,  1.39998793,  1.00599593,  0.38817136,  0.03472668,\n",
       "         0.04674698]])"
      ]
     },
     "execution_count": 19,
     "metadata": {},
     "output_type": "execute_result"
    }
   ],
   "source": [
    "clustering_kmeans.cluster_centers_"
   ]
  },
  {
   "cell_type": "code",
   "execution_count": 20,
   "metadata": {},
   "outputs": [
    {
     "data": {
      "text/plain": [
       "array([1, 0, 1, ..., 3, 1, 3])"
      ]
     },
     "execution_count": 20,
     "metadata": {},
     "output_type": "execute_result"
    }
   ],
   "source": [
    "clustering_kmeans.labels_"
   ]
  },
  {
   "cell_type": "code",
   "execution_count": 21,
   "metadata": {},
   "outputs": [],
   "source": [
    "new_data = { \n",
    "    'Balance' : [1], \n",
    "    'BonusMiles' : [1],\n",
    "    'BonusTrans' : [1],\n",
    "    'DaysSinceEnroll' : [1],\n",
    "    'FlightMiles' : [1],\n",
    "    'FlightTrans' : [1],\n",
    "}\n",
    "new_data_df = pd.DataFrame(new_data)"
   ]
  },
  {
   "cell_type": "code",
   "execution_count": 22,
   "metadata": {},
   "outputs": [
    {
     "data": {
      "text/plain": [
       "array([3])"
      ]
     },
     "execution_count": 22,
     "metadata": {},
     "output_type": "execute_result"
    }
   ],
   "source": [
    "clustering_kmeans.predict(new_data_df)"
   ]
  },
  {
   "cell_type": "code",
   "execution_count": 23,
   "metadata": {},
   "outputs": [
    {
     "data": {
      "text/plain": [
       "array([[2.74390732, 3.51202185, 4.33742327, 1.54863719]])"
      ]
     },
     "execution_count": 23,
     "metadata": {},
     "output_type": "execute_result"
    }
   ],
   "source": [
    "# soft clustering\n",
    "clustering_kmeans.transform(new_data_df)"
   ]
  },
  {
   "cell_type": "markdown",
   "metadata": {},
   "source": [
    "### Elbow plot"
   ]
  },
  {
   "cell_type": "code",
   "execution_count": 24,
   "metadata": {
    "scrolled": true
   },
   "outputs": [
    {
     "data": {
      "image/png": "[encoded data removed]",
      "text/plain": [
       "<Figure size 432x288 with 2 Axes>"
      ]
     },
     "metadata": {
      "needs_background": "light"
     },
     "output_type": "display_data"
    }
   ],
   "source": [
    "skplt.cluster.plot_elbow_curve(clustering_kmeans, standardized_df, cluster_ranges=range(1, 10))\n",
    "plt.show()"
   ]
  },
  {
   "cell_type": "markdown",
   "metadata": {},
   "source": [
    "### KMeans clustering (k=8)"
   ]
  },
  {
   "cell_type": "code",
   "execution_count": 25,
   "metadata": {},
   "outputs": [],
   "source": [
    "k = 8"
   ]
  },
  {
   "cell_type": "code",
   "execution_count": 26,
   "metadata": {},
   "outputs": [
    {
     "data": {
      "text/plain": [
       "KMeans(random_state=886)"
      ]
     },
     "execution_count": 26,
     "metadata": {},
     "output_type": "execute_result"
    }
   ],
   "source": [
    "clustering_kmeans = KMeans(n_clusters=k, n_init=10, random_state=886)\n",
    "#default values: n_clusters=8; n_init=10; \n",
    "clustering_kmeans.fit(standardized_df)"
   ]
  },
  {
   "cell_type": "code",
   "execution_count": 27,
   "metadata": {},
   "outputs": [
    {
     "data": {
      "text/plain": [
       "8147.049214332683"
      ]
     },
     "execution_count": 27,
     "metadata": {},
     "output_type": "execute_result"
    }
   ],
   "source": [
    "clustering_kmeans.inertia_"
   ]
  },
  {
   "cell_type": "code",
   "execution_count": 28,
   "metadata": {},
   "outputs": [
    {
     "data": {
      "text/html": [
       "<div>\n",
       "<style scoped>\n",
       "    .dataframe tbody tr th:only-of-type {\n",
       "        vertical-align: middle;\n",
       "    }\n",
       "\n",
       "    .dataframe tbody tr th {\n",
       "        vertical-align: top;\n",
       "    }\n",
       "\n",
       "    .dataframe thead th {\n",
       "        text-align: right;\n",
       "    }\n",
       "</style>\n",
       "<table border=\"1\" class=\"dataframe\">\n",
       "  <thead>\n",
       "    <tr style=\"text-align: right;\">\n",
       "      <th></th>\n",
       "      <th>Balance</th>\n",
       "      <th>BonusMiles</th>\n",
       "      <th>BonusTrans</th>\n",
       "      <th>DaysSinceEnroll</th>\n",
       "      <th>FlightMiles</th>\n",
       "      <th>FlightTrans</th>\n",
       "    </tr>\n",
       "  </thead>\n",
       "  <tbody>\n",
       "    <tr>\n",
       "      <th>0</th>\n",
       "      <td>5.988544</td>\n",
       "      <td>2.090801</td>\n",
       "      <td>1.114535</td>\n",
       "      <td>1.169617</td>\n",
       "      <td>0.800236</td>\n",
       "      <td>1.105183</td>\n",
       "    </tr>\n",
       "    <tr>\n",
       "      <th>1</th>\n",
       "      <td>0.410319</td>\n",
       "      <td>0.159360</td>\n",
       "      <td>0.832719</td>\n",
       "      <td>0.021617</td>\n",
       "      <td>1.884679</td>\n",
       "      <td>1.928945</td>\n",
       "    </tr>\n",
       "    <tr>\n",
       "      <th>2</th>\n",
       "      <td>-0.349643</td>\n",
       "      <td>-0.582100</td>\n",
       "      <td>-0.757961</td>\n",
       "      <td>0.692474</td>\n",
       "      <td>-0.217866</td>\n",
       "      <td>-0.229288</td>\n",
       "    </tr>\n",
       "    <tr>\n",
       "      <th>3</th>\n",
       "      <td>0.755637</td>\n",
       "      <td>2.225757</td>\n",
       "      <td>1.120768</td>\n",
       "      <td>0.475456</td>\n",
       "      <td>-0.081220</td>\n",
       "      <td>-0.057001</td>\n",
       "    </tr>\n",
       "    <tr>\n",
       "      <th>4</th>\n",
       "      <td>-0.415792</td>\n",
       "      <td>-0.609378</td>\n",
       "      <td>-0.863853</td>\n",
       "      <td>-1.019054</td>\n",
       "      <td>-0.235512</td>\n",
       "      <td>-0.243491</td>\n",
       "    </tr>\n",
       "    <tr>\n",
       "      <th>5</th>\n",
       "      <td>0.284767</td>\n",
       "      <td>0.195896</td>\n",
       "      <td>0.465650</td>\n",
       "      <td>1.036520</td>\n",
       "      <td>-0.176504</td>\n",
       "      <td>-0.193233</td>\n",
       "    </tr>\n",
       "    <tr>\n",
       "      <th>6</th>\n",
       "      <td>0.768712</td>\n",
       "      <td>0.861701</td>\n",
       "      <td>2.494494</td>\n",
       "      <td>0.152801</td>\n",
       "      <td>5.838059</td>\n",
       "      <td>6.073200</td>\n",
       "    </tr>\n",
       "    <tr>\n",
       "      <th>7</th>\n",
       "      <td>-0.158421</td>\n",
       "      <td>0.082177</td>\n",
       "      <td>0.539966</td>\n",
       "      <td>-0.642569</td>\n",
       "      <td>-0.239158</td>\n",
       "      <td>-0.257326</td>\n",
       "    </tr>\n",
       "  </tbody>\n",
       "</table>\n",
       "</div>"
      ],
      "text/plain": [
       "    Balance  BonusMiles  BonusTrans  DaysSinceEnroll  FlightMiles  FlightTrans\n",
       "0  5.988544    2.090801    1.114535         1.169617     0.800236     1.105183\n",
       "1  0.410319    0.159360    0.832719         0.021617     1.884679     1.928945\n",
       "2 -0.349643   -0.582100   -0.757961         0.692474    -0.217866    -0.229288\n",
       "3  0.755637    2.225757    1.120768         0.475456    -0.081220    -0.057001\n",
       "4 -0.415792   -0.609378   -0.863853        -1.019054    -0.235512    -0.243491\n",
       "5  0.284767    0.195896    0.465650         1.036520    -0.176504    -0.193233\n",
       "6  0.768712    0.861701    2.494494         0.152801     5.838059     6.073200\n",
       "7 -0.158421    0.082177    0.539966        -0.642569    -0.239158    -0.257326"
      ]
     },
     "execution_count": 28,
     "metadata": {},
     "output_type": "execute_result"
    }
   ],
   "source": [
    "clustering_kmeans.cluster_centers_\n",
    "df_centroids = pd.DataFrame(clustering_kmeans.cluster_centers_, columns=standardized_df.columns)\n",
    "df_centroids"
   ]
  },
  {
   "cell_type": "code",
   "execution_count": 29,
   "metadata": {},
   "outputs": [
    {
     "data": {
      "text/plain": [
       "(array([0, 1, 2, 3, 4, 5, 6, 7]),\n",
       " array([ 46, 219, 881, 324, 962, 668,  54, 845], dtype=int64))"
      ]
     },
     "execution_count": 29,
     "metadata": {},
     "output_type": "execute_result"
    }
   ],
   "source": [
    "np.unique(clustering_kmeans.labels_, return_counts=True)"
   ]
  },
  {
   "cell_type": "markdown",
   "metadata": {},
   "source": [
    "### Parallel plot"
   ]
  },
  {
   "cell_type": "code",
   "execution_count": 30,
   "metadata": {},
   "outputs": [
    {
     "data": {
      "text/plain": [
       "<AxesSubplot:>"
      ]
     },
     "execution_count": 30,
     "metadata": {},
     "output_type": "execute_result"
    },
    {
     "data": {
      "image/png": "[encoded data removed]",
      "text/plain": [
       "<Figure size 720x360 with 1 Axes>"
      ]
     },
     "metadata": {
      "needs_background": "light"
     },
     "output_type": "display_data"
    }
   ],
   "source": [
    "df_centroids.T.plot(figsize = (10,5))"
   ]
  },
  {
   "cell_type": "markdown",
   "metadata": {},
   "source": [
    "### END"
   ]
  }
 ],
 "metadata": {
  "colab": {
   "collapsed_sections": [
    "cbEQlIplwY5k",
    "EBUEG5-Cnglm",
    "HBHgRvCEzJAD",
    "IeWbEvilxC5P",
    "Rhly7BwrzPdf",
    "neI3PXRV5Y5f",
    "t5h7PZ-Q6L09",
    "0Nlsk4V16P08",
    "fnWLIf0r_POH",
    "rnvyAlV5_mMz",
    "OQk3oN_T_yl2",
    "2FCZXiuY_uIf",
    "GS1h4S8LvHyJ"
   ],
   "name": "2021_10_01_meeting.ipynb",
   "provenance": []
  },
  "finalized": {
   "timestamp": 1653670308085,
   "trusted": true
  },
  "kernelspec": {
   "display_name": "Python 3 (ipykernel)",
   "language": "python",
   "name": "python3"
  },
  "language_info": {
   "codemirror_mode": {
    "name": "ipython",
    "version": 3
   },
   "file_extension": ".py",
   "mimetype": "text/x-python",
   "name": "python",
   "nbconvert_exporter": "python",
   "pygments_lexer": "ipython3",
   "version": "3.9.12"
  }
 },
 "nbformat": 4,
 "nbformat_minor": 4
}
